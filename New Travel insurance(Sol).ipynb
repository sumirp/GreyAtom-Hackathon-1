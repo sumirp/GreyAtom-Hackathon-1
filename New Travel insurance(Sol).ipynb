{
 "cells": [
  {
   "cell_type": "code",
   "execution_count": 1,
   "metadata": {},
   "outputs": [],
   "source": [
    "import pandas as pd\n",
    "import numpy as np\n",
    "import matplotlib.pyplot as plt\n",
    "import seaborn as sns\n",
    "%matplotlib inline\n",
    "import warnings\n",
    "warnings.filterwarnings('ignore')\n",
    "from sklearn.preprocessing import LabelEncoder\n",
    "from sklearn.model_selection import train_test_split\n",
    "from sklearn.linear_model import LogisticRegression\n",
    "from sklearn.tree import DecisionTreeClassifier\n",
    "from sklearn.ensemble import GradientBoostingClassifier ,RandomForestClassifier\n",
    "from xgboost import XGBClassifier \n",
    "from sklearn.model_selection import GridSearchCV, RandomizedSearchCV\n",
    "from sklearn.metrics import precision_score, accuracy_score, f1_score,recall_score,confusion_matrix\n",
    "from sklearn.linear_model import Ridge,Lasso\n",
    "from scipy.stats.mstats import winsorize\n",
    "from sklearn.feature_selection import RFE\n",
    "from sklearn.svm import LinearSVC\n",
    "from imblearn.under_sampling import TomekLinks\n",
    "from sklearn.preprocessing import StandardScaler\n",
    "from sklearn.decomposition import PCA "
   ]
  },
  {
   "cell_type": "code",
   "execution_count": 2,
   "metadata": {},
   "outputs": [
    {
     "data": {
      "text/plain": [
       "(50553, 12)"
      ]
     },
     "execution_count": 2,
     "metadata": {},
     "output_type": "execute_result"
    }
   ],
   "source": [
    "data_train=pd.read_csv(r\"C:\\Users\\1403330\\Downloads\\New Travel Insurance\\train.csv\")\n",
    "data_train.head()\n",
    "data_train.shape"
   ]
  },
  {
   "cell_type": "code",
   "execution_count": 3,
   "metadata": {},
   "outputs": [
    {
     "data": {
      "text/plain": [
       "(12661, 11)"
      ]
     },
     "execution_count": 3,
     "metadata": {},
     "output_type": "execute_result"
    }
   ],
   "source": [
    "data_test=pd.read_csv(r\"C:\\Users\\1403330\\Downloads\\New Travel Insurance\\test.csv\")\n",
    "data_test.head()\n",
    "data_test.shape"
   ]
  },
  {
   "cell_type": "code",
   "execution_count": 4,
   "metadata": {},
   "outputs": [],
   "source": [
    "data_train.drop([\"Gender\",\"Commision (in value)\"],1,inplace=True)\n",
    "data_test.drop([\"Gender\",\"Commision (in value)\"],1,inplace=True)\n"
   ]
  },
  {
   "cell_type": "code",
   "execution_count": 5,
   "metadata": {},
   "outputs": [
    {
     "data": {
      "text/html": [
       "<div>\n",
       "<style scoped>\n",
       "    .dataframe tbody tr th:only-of-type {\n",
       "        vertical-align: middle;\n",
       "    }\n",
       "\n",
       "    .dataframe tbody tr th {\n",
       "        vertical-align: top;\n",
       "    }\n",
       "\n",
       "    .dataframe thead th {\n",
       "        text-align: right;\n",
       "    }\n",
       "</style>\n",
       "<table border=\"1\" class=\"dataframe\">\n",
       "  <thead>\n",
       "    <tr style=\"text-align: right;\">\n",
       "      <th></th>\n",
       "      <th>ID</th>\n",
       "      <th>Claim</th>\n",
       "      <th>Duration</th>\n",
       "      <th>Net Sales</th>\n",
       "      <th>Age</th>\n",
       "    </tr>\n",
       "  </thead>\n",
       "  <tbody>\n",
       "    <tr>\n",
       "      <th>count</th>\n",
       "      <td>50553.000000</td>\n",
       "      <td>50553.000000</td>\n",
       "      <td>50553.000000</td>\n",
       "      <td>50553.000000</td>\n",
       "      <td>50553.000000</td>\n",
       "    </tr>\n",
       "    <tr>\n",
       "      <th>mean</th>\n",
       "      <td>31679.740134</td>\n",
       "      <td>0.014658</td>\n",
       "      <td>49.425969</td>\n",
       "      <td>40.800977</td>\n",
       "      <td>40.011236</td>\n",
       "    </tr>\n",
       "    <tr>\n",
       "      <th>std</th>\n",
       "      <td>18288.265350</td>\n",
       "      <td>0.120180</td>\n",
       "      <td>101.434647</td>\n",
       "      <td>48.899683</td>\n",
       "      <td>14.076566</td>\n",
       "    </tr>\n",
       "    <tr>\n",
       "      <th>min</th>\n",
       "      <td>0.000000</td>\n",
       "      <td>0.000000</td>\n",
       "      <td>-2.000000</td>\n",
       "      <td>-389.000000</td>\n",
       "      <td>0.000000</td>\n",
       "    </tr>\n",
       "    <tr>\n",
       "      <th>25%</th>\n",
       "      <td>15891.000000</td>\n",
       "      <td>0.000000</td>\n",
       "      <td>9.000000</td>\n",
       "      <td>18.000000</td>\n",
       "      <td>35.000000</td>\n",
       "    </tr>\n",
       "    <tr>\n",
       "      <th>50%</th>\n",
       "      <td>31657.000000</td>\n",
       "      <td>0.000000</td>\n",
       "      <td>22.000000</td>\n",
       "      <td>26.500000</td>\n",
       "      <td>36.000000</td>\n",
       "    </tr>\n",
       "    <tr>\n",
       "      <th>75%</th>\n",
       "      <td>47547.000000</td>\n",
       "      <td>0.000000</td>\n",
       "      <td>53.000000</td>\n",
       "      <td>48.000000</td>\n",
       "      <td>44.000000</td>\n",
       "    </tr>\n",
       "    <tr>\n",
       "      <th>max</th>\n",
       "      <td>63325.000000</td>\n",
       "      <td>1.000000</td>\n",
       "      <td>4881.000000</td>\n",
       "      <td>810.000000</td>\n",
       "      <td>118.000000</td>\n",
       "    </tr>\n",
       "  </tbody>\n",
       "</table>\n",
       "</div>"
      ],
      "text/plain": [
       "                 ID         Claim      Duration     Net Sales           Age\n",
       "count  50553.000000  50553.000000  50553.000000  50553.000000  50553.000000\n",
       "mean   31679.740134      0.014658     49.425969     40.800977     40.011236\n",
       "std    18288.265350      0.120180    101.434647     48.899683     14.076566\n",
       "min        0.000000      0.000000     -2.000000   -389.000000      0.000000\n",
       "25%    15891.000000      0.000000      9.000000     18.000000     35.000000\n",
       "50%    31657.000000      0.000000     22.000000     26.500000     36.000000\n",
       "75%    47547.000000      0.000000     53.000000     48.000000     44.000000\n",
       "max    63325.000000      1.000000   4881.000000    810.000000    118.000000"
      ]
     },
     "execution_count": 5,
     "metadata": {},
     "output_type": "execute_result"
    }
   ],
   "source": [
    "data_train.describe()"
   ]
  },
  {
   "cell_type": "code",
   "execution_count": 6,
   "metadata": {},
   "outputs": [],
   "source": [
    "indexnames=data_train[data_train[\"Duration\"]>=400].index\n",
    "data_train.drop(indexnames,inplace=True)\n",
    "indexnames=data_train[data_train[\"Duration\"]<=0.99].index\n",
    "data_train.drop(indexnames,inplace=True)\n",
    "indexnames=data_train[data_train[\"Net Sales\"]<1].index\n",
    "data_train.drop(indexnames,inplace=True)\n",
    "indexnames=data_train[data_train[\"Age\"]>=100].index\n",
    "data_train.drop(indexnames,inplace=True)\n",
    "indexnames=data_train[data_train[\"Age\"]<=0].index\n",
    "data_train.drop(indexnames,inplace=True)"
   ]
  },
  {
   "cell_type": "code",
   "execution_count": 7,
   "metadata": {},
   "outputs": [
    {
     "data": {
      "text/html": [
       "<div>\n",
       "<style scoped>\n",
       "    .dataframe tbody tr th:only-of-type {\n",
       "        vertical-align: middle;\n",
       "    }\n",
       "\n",
       "    .dataframe tbody tr th {\n",
       "        vertical-align: top;\n",
       "    }\n",
       "\n",
       "    .dataframe thead th {\n",
       "        text-align: right;\n",
       "    }\n",
       "</style>\n",
       "<table border=\"1\" class=\"dataframe\">\n",
       "  <thead>\n",
       "    <tr style=\"text-align: right;\">\n",
       "      <th></th>\n",
       "      <th>ID</th>\n",
       "      <th>Claim</th>\n",
       "      <th>Duration</th>\n",
       "      <th>Net Sales</th>\n",
       "      <th>Age</th>\n",
       "    </tr>\n",
       "  </thead>\n",
       "  <tbody>\n",
       "    <tr>\n",
       "      <th>count</th>\n",
       "      <td>47464.000000</td>\n",
       "      <td>47464.000000</td>\n",
       "      <td>47464.000000</td>\n",
       "      <td>47464.000000</td>\n",
       "      <td>47464.000000</td>\n",
       "    </tr>\n",
       "    <tr>\n",
       "      <th>mean</th>\n",
       "      <td>31590.407214</td>\n",
       "      <td>0.015254</td>\n",
       "      <td>47.199140</td>\n",
       "      <td>42.562102</td>\n",
       "      <td>38.738307</td>\n",
       "    </tr>\n",
       "    <tr>\n",
       "      <th>std</th>\n",
       "      <td>18289.199138</td>\n",
       "      <td>0.122561</td>\n",
       "      <td>71.541807</td>\n",
       "      <td>46.847934</td>\n",
       "      <td>10.096311</td>\n",
       "    </tr>\n",
       "    <tr>\n",
       "      <th>min</th>\n",
       "      <td>22.000000</td>\n",
       "      <td>0.000000</td>\n",
       "      <td>1.000000</td>\n",
       "      <td>1.030000</td>\n",
       "      <td>1.000000</td>\n",
       "    </tr>\n",
       "    <tr>\n",
       "      <th>25%</th>\n",
       "      <td>15792.750000</td>\n",
       "      <td>0.000000</td>\n",
       "      <td>9.000000</td>\n",
       "      <td>19.800000</td>\n",
       "      <td>35.000000</td>\n",
       "    </tr>\n",
       "    <tr>\n",
       "      <th>50%</th>\n",
       "      <td>31472.500000</td>\n",
       "      <td>0.000000</td>\n",
       "      <td>22.000000</td>\n",
       "      <td>27.000000</td>\n",
       "      <td>36.000000</td>\n",
       "    </tr>\n",
       "    <tr>\n",
       "      <th>75%</th>\n",
       "      <td>47494.250000</td>\n",
       "      <td>0.000000</td>\n",
       "      <td>52.000000</td>\n",
       "      <td>49.500000</td>\n",
       "      <td>42.000000</td>\n",
       "    </tr>\n",
       "    <tr>\n",
       "      <th>max</th>\n",
       "      <td>63325.000000</td>\n",
       "      <td>1.000000</td>\n",
       "      <td>399.000000</td>\n",
       "      <td>682.000000</td>\n",
       "      <td>88.000000</td>\n",
       "    </tr>\n",
       "  </tbody>\n",
       "</table>\n",
       "</div>"
      ],
      "text/plain": [
       "                 ID         Claim      Duration     Net Sales           Age\n",
       "count  47464.000000  47464.000000  47464.000000  47464.000000  47464.000000\n",
       "mean   31590.407214      0.015254     47.199140     42.562102     38.738307\n",
       "std    18289.199138      0.122561     71.541807     46.847934     10.096311\n",
       "min       22.000000      0.000000      1.000000      1.030000      1.000000\n",
       "25%    15792.750000      0.000000      9.000000     19.800000     35.000000\n",
       "50%    31472.500000      0.000000     22.000000     27.000000     36.000000\n",
       "75%    47494.250000      0.000000     52.000000     49.500000     42.000000\n",
       "max    63325.000000      1.000000    399.000000    682.000000     88.000000"
      ]
     },
     "execution_count": 7,
     "metadata": {},
     "output_type": "execute_result"
    }
   ],
   "source": [
    "data_train.describe()"
   ]
  },
  {
   "cell_type": "code",
   "execution_count": 8,
   "metadata": {},
   "outputs": [
    {
     "data": {
      "text/plain": [
       "ID           0.010041\n",
       "Claim        7.910591\n",
       "Duration     3.178388\n",
       "Net Sales    3.788608\n",
       "Age          1.224221\n",
       "dtype: float64"
      ]
     },
     "execution_count": 8,
     "metadata": {},
     "output_type": "execute_result"
    }
   ],
   "source": [
    "data_train.skew()"
   ]
  },
  {
   "cell_type": "code",
   "execution_count": 9,
   "metadata": {},
   "outputs": [
    {
     "data": {
      "text/plain": [
       "0.5083598419774623"
      ]
     },
     "execution_count": 9,
     "metadata": {},
     "output_type": "execute_result"
    }
   ],
   "source": [
    "data_train[\"Duration\"]=np.log1p(data_train[\"Duration\"])\n",
    "data_train[\"Duration\"].skew()\n",
    "data_train[\"Net Sales\"]=np.log(data_train[\"Net Sales\"])\n",
    "data_train[\"Net Sales\"].skew()\n",
    "data_train[\"Age\"]=np.cbrt(data_train[\"Age\"])\n",
    "data_train[\"Age\"].skew()"
   ]
  },
  {
   "cell_type": "code",
   "execution_count": 10,
   "metadata": {},
   "outputs": [
    {
     "data": {
      "text/plain": [
       "ID           0.010041\n",
       "Claim        7.910591\n",
       "Duration     0.237361\n",
       "Net Sales    0.365295\n",
       "Age          0.508360\n",
       "dtype: float64"
      ]
     },
     "execution_count": 10,
     "metadata": {},
     "output_type": "execute_result"
    }
   ],
   "source": [
    "data_train.skew()"
   ]
  },
  {
   "cell_type": "code",
   "execution_count": 11,
   "metadata": {},
   "outputs": [
    {
     "data": {
      "text/plain": [
       "(12661, 9)"
      ]
     },
     "execution_count": 11,
     "metadata": {},
     "output_type": "execute_result"
    }
   ],
   "source": [
    "data_test.shape"
   ]
  },
  {
   "cell_type": "code",
   "execution_count": 12,
   "metadata": {},
   "outputs": [
    {
     "data": {
      "text/plain": [
       "(array([5.000e+00, 4.000e+00, 1.200e+01, 2.400e+01, 3.000e+02, 4.618e+03,\n",
       "        2.894e+04, 8.851e+03, 4.111e+03, 5.990e+02]),\n",
       " array([1.        , 1.34479602, 1.68959204, 2.03438805, 2.37918407,\n",
       "        2.72398009, 3.06877611, 3.41357213, 3.75836814, 4.10316416,\n",
       "        4.44796018]),\n",
       " <a list of 10 Patch objects>)"
      ]
     },
     "execution_count": 12,
     "metadata": {},
     "output_type": "execute_result"
    },
    {
     "data": {
      "image/png": "[encoded data removed]",
      "text/plain": [
       "<Figure size 1440x360 with 3 Axes>"
      ]
     },
     "metadata": {
      "needs_background": "light"
     },
     "output_type": "display_data"
    }
   ],
   "source": [
    "import matplotlib.pyplot as plt\n",
    "fig,(ax1,ax2,ax3)=plt.subplots(1,3,figsize = (20,5))\n",
    "ax1.hist(data_train[\"Duration\"])\n",
    "ax2.hist(data_train[\"Net Sales\"])\n",
    "ax3.hist(data_train[\"Age\"])"
   ]
  },
  {
   "cell_type": "code",
   "execution_count": 13,
   "metadata": {},
   "outputs": [
    {
     "data": {
      "text/html": [
       "<div>\n",
       "<style scoped>\n",
       "    .dataframe tbody tr th:only-of-type {\n",
       "        vertical-align: middle;\n",
       "    }\n",
       "\n",
       "    .dataframe tbody tr th {\n",
       "        vertical-align: top;\n",
       "    }\n",
       "\n",
       "    .dataframe thead th {\n",
       "        text-align: right;\n",
       "    }\n",
       "</style>\n",
       "<table border=\"1\" class=\"dataframe\">\n",
       "  <thead>\n",
       "    <tr style=\"text-align: right;\">\n",
       "      <th></th>\n",
       "      <th>ID</th>\n",
       "      <th>Agency</th>\n",
       "      <th>Agency Type</th>\n",
       "      <th>Distribution Channel</th>\n",
       "      <th>Product Name</th>\n",
       "      <th>Claim</th>\n",
       "      <th>Duration</th>\n",
       "      <th>Destination</th>\n",
       "      <th>Net Sales</th>\n",
       "      <th>Age</th>\n",
       "    </tr>\n",
       "  </thead>\n",
       "  <tbody>\n",
       "    <tr>\n",
       "      <th>1</th>\n",
       "      <td>4339</td>\n",
       "      <td>7</td>\n",
       "      <td>1</td>\n",
       "      <td>1</td>\n",
       "      <td>10</td>\n",
       "      <td>0</td>\n",
       "      <td>4.454347</td>\n",
       "      <td>79</td>\n",
       "      <td>4.234107</td>\n",
       "      <td>3.301927</td>\n",
       "    </tr>\n",
       "    <tr>\n",
       "      <th>2</th>\n",
       "      <td>34590</td>\n",
       "      <td>6</td>\n",
       "      <td>1</td>\n",
       "      <td>1</td>\n",
       "      <td>16</td>\n",
       "      <td>0</td>\n",
       "      <td>2.484907</td>\n",
       "      <td>56</td>\n",
       "      <td>2.985682</td>\n",
       "      <td>4.217163</td>\n",
       "    </tr>\n",
       "    <tr>\n",
       "      <th>3</th>\n",
       "      <td>55816</td>\n",
       "      <td>7</td>\n",
       "      <td>1</td>\n",
       "      <td>1</td>\n",
       "      <td>1</td>\n",
       "      <td>0</td>\n",
       "      <td>2.833213</td>\n",
       "      <td>38</td>\n",
       "      <td>2.995732</td>\n",
       "      <td>3.174802</td>\n",
       "    </tr>\n",
       "    <tr>\n",
       "      <th>4</th>\n",
       "      <td>13816</td>\n",
       "      <td>7</td>\n",
       "      <td>1</td>\n",
       "      <td>1</td>\n",
       "      <td>10</td>\n",
       "      <td>0</td>\n",
       "      <td>2.397895</td>\n",
       "      <td>47</td>\n",
       "      <td>2.708050</td>\n",
       "      <td>3.072317</td>\n",
       "    </tr>\n",
       "    <tr>\n",
       "      <th>5</th>\n",
       "      <td>50349</td>\n",
       "      <td>6</td>\n",
       "      <td>1</td>\n",
       "      <td>1</td>\n",
       "      <td>16</td>\n",
       "      <td>0</td>\n",
       "      <td>4.174387</td>\n",
       "      <td>88</td>\n",
       "      <td>3.901973</td>\n",
       "      <td>3.301927</td>\n",
       "    </tr>\n",
       "  </tbody>\n",
       "</table>\n",
       "</div>"
      ],
      "text/plain": [
       "      ID  Agency  Agency Type  Distribution Channel  Product Name  Claim  \\\n",
       "1   4339       7            1                     1            10      0   \n",
       "2  34590       6            1                     1            16      0   \n",
       "3  55816       7            1                     1             1      0   \n",
       "4  13816       7            1                     1            10      0   \n",
       "5  50349       6            1                     1            16      0   \n",
       "\n",
       "   Duration  Destination  Net Sales       Age  \n",
       "1  4.454347           79   4.234107  3.301927  \n",
       "2  2.484907           56   2.985682  4.217163  \n",
       "3  2.833213           38   2.995732  3.174802  \n",
       "4  2.397895           47   2.708050  3.072317  \n",
       "5  4.174387           88   3.901973  3.301927  "
      ]
     },
     "execution_count": 13,
     "metadata": {},
     "output_type": "execute_result"
    }
   ],
   "source": [
    "label_encoder=LabelEncoder()\n",
    "data_train[\"Agency Type\"]=label_encoder.fit_transform(data_train[\"Agency Type\"])\n",
    "data_train[\"Agency\"]=label_encoder.fit_transform(data_train[\"Agency\"])\n",
    "data_train[\"Distribution Channel\"]=label_encoder.fit_transform(data_train[\"Distribution Channel\"])\n",
    "data_train[\"Product Name\"]=label_encoder.fit_transform(data_train[\"Product Name\"])\n",
    "data_train[\"Destination\"]=label_encoder.fit_transform(data_train[\"Destination\"])\n",
    "data_train.head()"
   ]
  },
  {
   "cell_type": "code",
   "execution_count": 14,
   "metadata": {},
   "outputs": [
    {
     "data": {
      "text/plain": [
       "(47464, 10)"
      ]
     },
     "execution_count": 14,
     "metadata": {},
     "output_type": "execute_result"
    }
   ],
   "source": [
    "data_train.shape"
   ]
  },
  {
   "cell_type": "code",
   "execution_count": 15,
   "metadata": {},
   "outputs": [
    {
     "data": {
      "text/html": [
       "<div>\n",
       "<style scoped>\n",
       "    .dataframe tbody tr th:only-of-type {\n",
       "        vertical-align: middle;\n",
       "    }\n",
       "\n",
       "    .dataframe tbody tr th {\n",
       "        vertical-align: top;\n",
       "    }\n",
       "\n",
       "    .dataframe thead th {\n",
       "        text-align: right;\n",
       "    }\n",
       "</style>\n",
       "<table border=\"1\" class=\"dataframe\">\n",
       "  <thead>\n",
       "    <tr style=\"text-align: right;\">\n",
       "      <th></th>\n",
       "      <th>ID</th>\n",
       "      <th>Agency</th>\n",
       "      <th>Agency Type</th>\n",
       "      <th>Distribution Channel</th>\n",
       "      <th>Product Name</th>\n",
       "      <th>Duration</th>\n",
       "      <th>Destination</th>\n",
       "      <th>Net Sales</th>\n",
       "      <th>Age</th>\n",
       "    </tr>\n",
       "  </thead>\n",
       "  <tbody>\n",
       "    <tr>\n",
       "      <th>0</th>\n",
       "      <td>25902</td>\n",
       "      <td>6</td>\n",
       "      <td>1</td>\n",
       "      <td>1</td>\n",
       "      <td>16</td>\n",
       "      <td>58</td>\n",
       "      <td>36</td>\n",
       "      <td>49.5</td>\n",
       "      <td>47</td>\n",
       "    </tr>\n",
       "    <tr>\n",
       "      <th>1</th>\n",
       "      <td>19535</td>\n",
       "      <td>7</td>\n",
       "      <td>1</td>\n",
       "      <td>1</td>\n",
       "      <td>1</td>\n",
       "      <td>4</td>\n",
       "      <td>79</td>\n",
       "      <td>20.0</td>\n",
       "      <td>24</td>\n",
       "    </tr>\n",
       "    <tr>\n",
       "      <th>2</th>\n",
       "      <td>43717</td>\n",
       "      <td>7</td>\n",
       "      <td>1</td>\n",
       "      <td>1</td>\n",
       "      <td>1</td>\n",
       "      <td>68</td>\n",
       "      <td>100</td>\n",
       "      <td>20.0</td>\n",
       "      <td>36</td>\n",
       "    </tr>\n",
       "    <tr>\n",
       "      <th>3</th>\n",
       "      <td>48271</td>\n",
       "      <td>7</td>\n",
       "      <td>1</td>\n",
       "      <td>1</td>\n",
       "      <td>1</td>\n",
       "      <td>41</td>\n",
       "      <td>17</td>\n",
       "      <td>28.0</td>\n",
       "      <td>36</td>\n",
       "    </tr>\n",
       "    <tr>\n",
       "      <th>4</th>\n",
       "      <td>52318</td>\n",
       "      <td>7</td>\n",
       "      <td>1</td>\n",
       "      <td>1</td>\n",
       "      <td>10</td>\n",
       "      <td>16</td>\n",
       "      <td>79</td>\n",
       "      <td>11.0</td>\n",
       "      <td>36</td>\n",
       "    </tr>\n",
       "  </tbody>\n",
       "</table>\n",
       "</div>"
      ],
      "text/plain": [
       "      ID  Agency  Agency Type  Distribution Channel  Product Name  Duration  \\\n",
       "0  25902       6            1                     1            16        58   \n",
       "1  19535       7            1                     1             1         4   \n",
       "2  43717       7            1                     1             1        68   \n",
       "3  48271       7            1                     1             1        41   \n",
       "4  52318       7            1                     1            10        16   \n",
       "\n",
       "   Destination  Net Sales  Age  \n",
       "0           36       49.5   47  \n",
       "1           79       20.0   24  \n",
       "2          100       20.0   36  \n",
       "3           17       28.0   36  \n",
       "4           79       11.0   36  "
      ]
     },
     "execution_count": 15,
     "metadata": {},
     "output_type": "execute_result"
    }
   ],
   "source": [
    "\n",
    "label_encoder=LabelEncoder()\n",
    "data_test[\"Agency Type\"]=label_encoder.fit_transform(data_test[\"Agency Type\"])\n",
    "data_test[\"Agency\"]=label_encoder.fit_transform(data_test[\"Agency\"])\n",
    "data_test[\"Distribution Channel\"]=label_encoder.fit_transform(data_test[\"Distribution Channel\"])\n",
    "data_test[\"Product Name\"]=label_encoder.fit_transform(data_test[\"Product Name\"])\n",
    "data_test[\"Destination\"]=label_encoder.fit_transform(data_test[\"Destination\"])\n",
    "data_test.head()"
   ]
  },
  {
   "cell_type": "code",
   "execution_count": 16,
   "metadata": {},
   "outputs": [
    {
     "data": {
      "text/plain": [
       "(12661, 9)"
      ]
     },
     "execution_count": 16,
     "metadata": {},
     "output_type": "execute_result"
    }
   ],
   "source": [
    "data_test.shape"
   ]
  },
  {
   "cell_type": "code",
   "execution_count": 17,
   "metadata": {},
   "outputs": [],
   "source": [
    "X=data_train.drop([\"Claim\",\"ID\"],1)\n",
    "y=data_train[\"Claim\"]\n",
    "X_train,X_test,y_train,y_test=train_test_split(X,y,test_size=0.2,random_state=0)"
   ]
  },
  {
   "cell_type": "code",
   "execution_count": 18,
   "metadata": {},
   "outputs": [
    {
     "name": "stdout",
     "output_type": "stream",
     "text": [
      "Accuracy is:  0.7878436742863162\n",
      "Precision is:  0.0491566265060241\n",
      "F1 score is:  0.09197475202885483\n",
      "Recall score is:  0.7132867132867133\n"
     ]
    }
   ],
   "source": [
    "model=LogisticRegression(random_state=0,class_weight=\"balanced\")\n",
    "model.fit(X_train,y_train)\n",
    "y_pred=model.predict(X_test)\n",
    "print(\"Accuracy is: \",model.score(X_test,y_test))\n",
    "print(\"Precision is: \",precision_score(y_test,y_pred))\n",
    "print(\"F1 score is: \",f1_score(y_test,y_pred))\n",
    "print(\"Recall score is: \",recall_score(y_test,y_pred))"
   ]
  },
  {
   "cell_type": "code",
   "execution_count": 19,
   "metadata": {},
   "outputs": [],
   "source": [
    "scaler=StandardScaler()\n",
    "scaler.fit(X_train)\n",
    "scaler.fit(X_test)\n",
    "X_train_scaled=scaler.transform(X_train)\n",
    "X_test_scaled=scaler.transform(X_test)"
   ]
  },
  {
   "cell_type": "code",
   "execution_count": 20,
   "metadata": {},
   "outputs": [],
   "source": [
    "from imblearn.over_sampling import SMOTE\n",
    "smote=SMOTE(random_state=0)\n",
    "X_sample4,y_sample4=smote.fit_sample(X_train_scaled,y_train)"
   ]
  },
  {
   "cell_type": "code",
   "execution_count": 21,
   "metadata": {},
   "outputs": [
    {
     "name": "stdout",
     "output_type": "stream",
     "text": [
      "Accuracy score is:  0.8397766775518803\n",
      "Recall score is:  0.6643356643356644\n",
      "Precision score is:  0.06058673469387755\n",
      "F1 score is:  0.11104617182933957\n",
      "Confusion Matrix:  [[7877 1473]\n",
      " [  48   95]]\n"
     ]
    }
   ],
   "source": [
    "model_smote_dt_2=DecisionTreeClassifier(random_state=0,max_depth=5,min_samples_split=2, min_samples_leaf=2,class_weight=\"balanced\") #decision tree rus\n",
    "model_smote_dt_2.fit(X_sample4,y_sample4)\n",
    "y_pred=model_smote_dt_2.predict(X_test_scaled)\n",
    "print(\"Accuracy score is: \",model_smote_dt_2.score(X_test_scaled,y_test))\n",
    "print(\"Recall score is: \",recall_score(y_test,y_pred))\n",
    "print(\"Precision score is: \",precision_score(y_test,y_pred))\n",
    "print(\"F1 score is: \",f1_score(y_test,y_pred))\n",
    "print(\"Confusion Matrix: \",confusion_matrix(y_test,y_pred))"
   ]
  },
  {
   "cell_type": "code",
   "execution_count": 22,
   "metadata": {
    "scrolled": true
   },
   "outputs": [
    {
     "data": {
      "text/plain": [
       "((47464, 8), (47464,), (12661, 8))"
      ]
     },
     "execution_count": 22,
     "metadata": {},
     "output_type": "execute_result"
    }
   ],
   "source": [
    "X_train_n = data_train.drop(['Claim'], axis=1)\n",
    "y_train_n = data_train['Claim'].copy()\n",
    "X_train_n = X_train_n.drop(['ID'], axis=1)\n",
    "X_test_n  = data_test.drop(['ID'], axis=1)\n",
    "X_train_n.shape, y_train_n.shape, X_test_n.shape"
   ]
  },
  {
   "cell_type": "code",
   "execution_count": 23,
   "metadata": {},
   "outputs": [],
   "source": [
    "model_smote_dt_2=DecisionTreeClassifier(random_state=0,max_depth=5,min_samples_split=2, min_samples_leaf=2,class_weight=\"balanced\") #decision tree rus\n",
    "\n",
    "model_smote_dt_2.fit(X_train_n, y_train_n)\n",
    "Y_pred = model_smote_dt_2.predict(X_test_n)"
   ]
  },
  {
   "cell_type": "code",
   "execution_count": 24,
   "metadata": {},
   "outputs": [],
   "source": [
    "submission = pd.DataFrame({\"ID\": data_test[\"ID\"],\"Claim\": Y_pred})\n",
    "submission.to_csv(r'C:\\Users\\1403330\\Downloads\\New Travel Insurance\\sample_submission.csv', index=False)\n"
   ]
  },
  {
   "cell_type": "code",
   "execution_count": null,
   "metadata": {},
   "outputs": [],
   "source": []
  },
  {
   "cell_type": "code",
   "execution_count": null,
   "metadata": {},
   "outputs": [],
   "source": []
  },
  {
   "cell_type": "code",
   "execution_count": null,
   "metadata": {},
   "outputs": [],
   "source": []
  }
 ],
 "metadata": {
  "kernelspec": {
   "display_name": "Python 3",
   "language": "python",
   "name": "python3"
  },
  "language_info": {
   "codemirror_mode": {
    "name": "ipython",
    "version": 3
   },
   "file_extension": ".py",
   "mimetype": "text/x-python",
   "name": "python",
   "nbconvert_exporter": "python",
   "pygments_lexer": "ipython3",
   "version": "3.7.3"
  }
 },
 "nbformat": 4,
 "nbformat_minor": 2
}
